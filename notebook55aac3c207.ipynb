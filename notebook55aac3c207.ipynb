{
 "cells": [
  {
   "cell_type": "code",
   "execution_count": 1,
   "id": "0867a0a7",
   "metadata": {
    "_cell_guid": "b1076dfc-b9ad-4769-8c92-a6c4dae69d19",
    "_uuid": "8f2839f25d086af736a60e9eeb907d3b93b6e0e5",
    "execution": {
     "iopub.execute_input": "2022-03-21T19:13:39.063670Z",
     "iopub.status.busy": "2022-03-21T19:13:39.062920Z",
     "iopub.status.idle": "2022-03-21T19:13:39.074020Z",
     "shell.execute_reply": "2022-03-21T19:13:39.074443Z",
     "shell.execute_reply.started": "2022-03-21T19:07:32.270962Z"
    },
    "papermill": {
     "duration": 0.0469,
     "end_time": "2022-03-21T19:13:39.074661",
     "exception": false,
     "start_time": "2022-03-21T19:13:39.027761",
     "status": "completed"
    },
    "tags": []
   },
   "outputs": [
    {
     "name": "stdout",
     "output_type": "stream",
     "text": [
      "/kaggle/input/wine-quality-dataset/WineQT.csv\n"
     ]
    }
   ],
   "source": [
    "# This Python 3 environment comes with many helpful analytics libraries installed\n",
    "# It is defined by the kaggle/python Docker image: https://github.com/kaggle/docker-python\n",
    "# For example, here's several helpful packages to load\n",
    "\n",
    "import numpy as np # linear algebra\n",
    "import pandas as pd # data processing, CSV file I/O (e.g. pd.read_csv)\n",
    "\n",
    "# Input data files are available in the read-only \"../input/\" directory\n",
    "# For example, running this (by clicking run or pressing Shift+Enter) will list all files under the input directory\n",
    "\n",
    "import os\n",
    "for dirname, _, filenames in os.walk('/kaggle/input'):\n",
    "    for filename in filenames:\n",
    "        print(os.path.join(dirname, filename))\n",
    "\n",
    "# You can write up to 20GB to the current directory (/kaggle/working/) that gets preserved as output when you create a version using \"Save & Run All\" \n",
    "# You can also write temporary files to /kaggle/temp/, but they won't be saved outside of the current session"
   ]
  },
  {
   "cell_type": "markdown",
   "id": "ab4e953f",
   "metadata": {
    "papermill": {
     "duration": 0.015899,
     "end_time": "2022-03-21T19:13:39.108984",
     "exception": false,
     "start_time": "2022-03-21T19:13:39.093085",
     "status": "completed"
    },
    "tags": []
   },
   "source": [
    "# Imports"
   ]
  },
  {
   "cell_type": "code",
   "execution_count": 2,
   "id": "9f97b1bf",
   "metadata": {
    "execution": {
     "iopub.execute_input": "2022-03-21T19:13:39.146185Z",
     "iopub.status.busy": "2022-03-21T19:13:39.145612Z",
     "iopub.status.idle": "2022-03-21T19:13:41.232691Z",
     "shell.execute_reply": "2022-03-21T19:13:41.232146Z",
     "shell.execute_reply.started": "2022-03-21T19:07:36.272090Z"
    },
    "papermill": {
     "duration": 2.108064,
     "end_time": "2022-03-21T19:13:41.232824",
     "exception": false,
     "start_time": "2022-03-21T19:13:39.124760",
     "status": "completed"
    },
    "tags": []
   },
   "outputs": [],
   "source": [
    "import pandas as pd\n",
    "import matplotlib.pyplot as plt\n",
    "plt.style.use(\"ggplot\")\n",
    "import seaborn as sns\n",
    "%matplotlib inline\n",
    "\n",
    "import torch\n",
    "from torch import nn\n",
    "\n",
    "\n",
    "import warnings            \n",
    "warnings.filterwarnings(\"ignore\")"
   ]
  },
  {
   "cell_type": "markdown",
   "id": "1408a4c4",
   "metadata": {
    "papermill": {
     "duration": 0.015698,
     "end_time": "2022-03-21T19:13:41.264810",
     "exception": false,
     "start_time": "2022-03-21T19:13:41.249112",
     "status": "completed"
    },
    "tags": []
   },
   "source": [
    "# Dataset\n",
    "\n",
    "This data frame contains the following columns:\n",
    "\n",
    "Input variables (based on physicochemical tests):\n",
    "\\\n",
    "1 - fixed acidity\\\n",
    "2 - volatile acidity\\\n",
    "3 - citric acid\\\n",
    "4 - residual sugar\\\n",
    "5 - chlorides\\\n",
    "6 - free sulfur dioxide\\\n",
    "7 - total sulfur dioxide\\\n",
    "8 - density\\\n",
    "9 - pH\\\n",
    "10 - sulphates\\\n",
    "11 - alcohol\\\n",
    "\n",
    "Output variable (based on sensory data):\\\n",
    "12 - quality (score between 0 and 10)"
   ]
  },
  {
   "cell_type": "code",
   "execution_count": 3,
   "id": "9f8e625e",
   "metadata": {
    "execution": {
     "iopub.execute_input": "2022-03-21T19:13:41.299486Z",
     "iopub.status.busy": "2022-03-21T19:13:41.298695Z",
     "iopub.status.idle": "2022-03-21T19:13:41.317597Z",
     "shell.execute_reply": "2022-03-21T19:13:41.317121Z",
     "shell.execute_reply.started": "2022-03-21T19:07:43.706494Z"
    },
    "papermill": {
     "duration": 0.03716,
     "end_time": "2022-03-21T19:13:41.317708",
     "exception": false,
     "start_time": "2022-03-21T19:13:41.280548",
     "status": "completed"
    },
    "tags": []
   },
   "outputs": [
    {
     "data": {
      "text/plain": [
       "(1143, 13)"
      ]
     },
     "execution_count": 3,
     "metadata": {},
     "output_type": "execute_result"
    }
   ],
   "source": [
    "df = pd.read_csv(\"/kaggle/input/wine-quality-dataset/WineQT.csv\")\n",
    "df.shape"
   ]
  },
  {
   "cell_type": "code",
   "execution_count": 4,
   "id": "602bc548",
   "metadata": {
    "execution": {
     "iopub.execute_input": "2022-03-21T19:13:41.403776Z",
     "iopub.status.busy": "2022-03-21T19:13:41.403018Z",
     "iopub.status.idle": "2022-03-21T19:13:41.407637Z",
     "shell.execute_reply": "2022-03-21T19:13:41.408222Z",
     "shell.execute_reply.started": "2022-03-21T19:07:51.206971Z"
    },
    "papermill": {
     "duration": 0.074152,
     "end_time": "2022-03-21T19:13:41.408400",
     "exception": false,
     "start_time": "2022-03-21T19:13:41.334248",
     "status": "completed"
    },
    "tags": []
   },
   "outputs": [
    {
     "name": "stdout",
     "output_type": "stream",
     "text": [
      "cuda\n"
     ]
    }
   ],
   "source": [
    "import torch\n",
    "\n",
    "if torch.cuda.is_available():\n",
    "  device = torch.device(\"cuda\")\n",
    "else:\n",
    "  device = torch.device(\"cpu\")\n",
    "print(device)"
   ]
  },
  {
   "cell_type": "markdown",
   "id": "4a9fd0c3",
   "metadata": {
    "papermill": {
     "duration": 0.016181,
     "end_time": "2022-03-21T19:13:41.441692",
     "exception": false,
     "start_time": "2022-03-21T19:13:41.425511",
     "status": "completed"
    },
    "tags": []
   },
   "source": [
    "# EDA"
   ]
  },
  {
   "cell_type": "code",
   "execution_count": 5,
   "id": "64038002",
   "metadata": {
    "execution": {
     "iopub.execute_input": "2022-03-21T19:13:41.480770Z",
     "iopub.status.busy": "2022-03-21T19:13:41.480010Z",
     "iopub.status.idle": "2022-03-21T19:13:41.498745Z",
     "shell.execute_reply": "2022-03-21T19:13:41.499156Z",
     "shell.execute_reply.started": "2022-03-21T19:04:44.316915Z"
    },
    "papermill": {
     "duration": 0.040968,
     "end_time": "2022-03-21T19:13:41.499283",
     "exception": false,
     "start_time": "2022-03-21T19:13:41.458315",
     "status": "completed"
    },
    "tags": []
   },
   "outputs": [
    {
     "data": {
      "text/html": [
       "<div>\n",
       "<style scoped>\n",
       "    .dataframe tbody tr th:only-of-type {\n",
       "        vertical-align: middle;\n",
       "    }\n",
       "\n",
       "    .dataframe tbody tr th {\n",
       "        vertical-align: top;\n",
       "    }\n",
       "\n",
       "    .dataframe thead th {\n",
       "        text-align: right;\n",
       "    }\n",
       "</style>\n",
       "<table border=\"1\" class=\"dataframe\">\n",
       "  <thead>\n",
       "    <tr style=\"text-align: right;\">\n",
       "      <th></th>\n",
       "      <th>fixed acidity</th>\n",
       "      <th>volatile acidity</th>\n",
       "      <th>citric acid</th>\n",
       "      <th>residual sugar</th>\n",
       "      <th>chlorides</th>\n",
       "      <th>free sulfur dioxide</th>\n",
       "      <th>total sulfur dioxide</th>\n",
       "      <th>density</th>\n",
       "      <th>pH</th>\n",
       "      <th>sulphates</th>\n",
       "      <th>alcohol</th>\n",
       "      <th>quality</th>\n",
       "      <th>Id</th>\n",
       "    </tr>\n",
       "  </thead>\n",
       "  <tbody>\n",
       "    <tr>\n",
       "      <th>0</th>\n",
       "      <td>7.4</td>\n",
       "      <td>0.70</td>\n",
       "      <td>0.00</td>\n",
       "      <td>1.9</td>\n",
       "      <td>0.076</td>\n",
       "      <td>11.0</td>\n",
       "      <td>34.0</td>\n",
       "      <td>0.9978</td>\n",
       "      <td>3.51</td>\n",
       "      <td>0.56</td>\n",
       "      <td>9.4</td>\n",
       "      <td>5</td>\n",
       "      <td>0</td>\n",
       "    </tr>\n",
       "    <tr>\n",
       "      <th>1</th>\n",
       "      <td>7.8</td>\n",
       "      <td>0.88</td>\n",
       "      <td>0.00</td>\n",
       "      <td>2.6</td>\n",
       "      <td>0.098</td>\n",
       "      <td>25.0</td>\n",
       "      <td>67.0</td>\n",
       "      <td>0.9968</td>\n",
       "      <td>3.20</td>\n",
       "      <td>0.68</td>\n",
       "      <td>9.8</td>\n",
       "      <td>5</td>\n",
       "      <td>1</td>\n",
       "    </tr>\n",
       "    <tr>\n",
       "      <th>2</th>\n",
       "      <td>7.8</td>\n",
       "      <td>0.76</td>\n",
       "      <td>0.04</td>\n",
       "      <td>2.3</td>\n",
       "      <td>0.092</td>\n",
       "      <td>15.0</td>\n",
       "      <td>54.0</td>\n",
       "      <td>0.9970</td>\n",
       "      <td>3.26</td>\n",
       "      <td>0.65</td>\n",
       "      <td>9.8</td>\n",
       "      <td>5</td>\n",
       "      <td>2</td>\n",
       "    </tr>\n",
       "    <tr>\n",
       "      <th>3</th>\n",
       "      <td>11.2</td>\n",
       "      <td>0.28</td>\n",
       "      <td>0.56</td>\n",
       "      <td>1.9</td>\n",
       "      <td>0.075</td>\n",
       "      <td>17.0</td>\n",
       "      <td>60.0</td>\n",
       "      <td>0.9980</td>\n",
       "      <td>3.16</td>\n",
       "      <td>0.58</td>\n",
       "      <td>9.8</td>\n",
       "      <td>6</td>\n",
       "      <td>3</td>\n",
       "    </tr>\n",
       "    <tr>\n",
       "      <th>4</th>\n",
       "      <td>7.4</td>\n",
       "      <td>0.70</td>\n",
       "      <td>0.00</td>\n",
       "      <td>1.9</td>\n",
       "      <td>0.076</td>\n",
       "      <td>11.0</td>\n",
       "      <td>34.0</td>\n",
       "      <td>0.9978</td>\n",
       "      <td>3.51</td>\n",
       "      <td>0.56</td>\n",
       "      <td>9.4</td>\n",
       "      <td>5</td>\n",
       "      <td>4</td>\n",
       "    </tr>\n",
       "  </tbody>\n",
       "</table>\n",
       "</div>"
      ],
      "text/plain": [
       "   fixed acidity  volatile acidity  citric acid  residual sugar  chlorides  \\\n",
       "0            7.4              0.70         0.00             1.9      0.076   \n",
       "1            7.8              0.88         0.00             2.6      0.098   \n",
       "2            7.8              0.76         0.04             2.3      0.092   \n",
       "3           11.2              0.28         0.56             1.9      0.075   \n",
       "4            7.4              0.70         0.00             1.9      0.076   \n",
       "\n",
       "   free sulfur dioxide  total sulfur dioxide  density    pH  sulphates  \\\n",
       "0                 11.0                  34.0   0.9978  3.51       0.56   \n",
       "1                 25.0                  67.0   0.9968  3.20       0.68   \n",
       "2                 15.0                  54.0   0.9970  3.26       0.65   \n",
       "3                 17.0                  60.0   0.9980  3.16       0.58   \n",
       "4                 11.0                  34.0   0.9978  3.51       0.56   \n",
       "\n",
       "   alcohol  quality  Id  \n",
       "0      9.4        5   0  \n",
       "1      9.8        5   1  \n",
       "2      9.8        5   2  \n",
       "3      9.8        6   3  \n",
       "4      9.4        5   4  "
      ]
     },
     "execution_count": 5,
     "metadata": {},
     "output_type": "execute_result"
    }
   ],
   "source": [
    "df.head()"
   ]
  },
  {
   "cell_type": "code",
   "execution_count": 6,
   "id": "cdbf3abb",
   "metadata": {
    "execution": {
     "iopub.execute_input": "2022-03-21T19:13:41.549982Z",
     "iopub.status.busy": "2022-03-21T19:13:41.549226Z",
     "iopub.status.idle": "2022-03-21T19:13:41.552733Z",
     "shell.execute_reply": "2022-03-21T19:13:41.553140Z",
     "shell.execute_reply.started": "2022-03-21T19:08:06.977627Z"
    },
    "papermill": {
     "duration": 0.037002,
     "end_time": "2022-03-21T19:13:41.553263",
     "exception": false,
     "start_time": "2022-03-21T19:13:41.516261",
     "status": "completed"
    },
    "tags": []
   },
   "outputs": [
    {
     "data": {
      "text/html": [
       "<div>\n",
       "<style scoped>\n",
       "    .dataframe tbody tr th:only-of-type {\n",
       "        vertical-align: middle;\n",
       "    }\n",
       "\n",
       "    .dataframe tbody tr th {\n",
       "        vertical-align: top;\n",
       "    }\n",
       "\n",
       "    .dataframe thead th {\n",
       "        text-align: right;\n",
       "    }\n",
       "</style>\n",
       "<table border=\"1\" class=\"dataframe\">\n",
       "  <thead>\n",
       "    <tr style=\"text-align: right;\">\n",
       "      <th></th>\n",
       "      <th>fixed acidity</th>\n",
       "      <th>volatile acidity</th>\n",
       "      <th>citric acid</th>\n",
       "      <th>residual sugar</th>\n",
       "      <th>chlorides</th>\n",
       "      <th>free sulfur dioxide</th>\n",
       "      <th>total sulfur dioxide</th>\n",
       "      <th>density</th>\n",
       "      <th>pH</th>\n",
       "      <th>sulphates</th>\n",
       "      <th>alcohol</th>\n",
       "      <th>quality</th>\n",
       "      <th>Id</th>\n",
       "    </tr>\n",
       "  </thead>\n",
       "  <tbody>\n",
       "    <tr>\n",
       "      <th>1138</th>\n",
       "      <td>6.3</td>\n",
       "      <td>0.510</td>\n",
       "      <td>0.13</td>\n",
       "      <td>2.3</td>\n",
       "      <td>0.076</td>\n",
       "      <td>29.0</td>\n",
       "      <td>40.0</td>\n",
       "      <td>0.99574</td>\n",
       "      <td>3.42</td>\n",
       "      <td>0.75</td>\n",
       "      <td>11.0</td>\n",
       "      <td>6</td>\n",
       "      <td>1592</td>\n",
       "    </tr>\n",
       "    <tr>\n",
       "      <th>1139</th>\n",
       "      <td>6.8</td>\n",
       "      <td>0.620</td>\n",
       "      <td>0.08</td>\n",
       "      <td>1.9</td>\n",
       "      <td>0.068</td>\n",
       "      <td>28.0</td>\n",
       "      <td>38.0</td>\n",
       "      <td>0.99651</td>\n",
       "      <td>3.42</td>\n",
       "      <td>0.82</td>\n",
       "      <td>9.5</td>\n",
       "      <td>6</td>\n",
       "      <td>1593</td>\n",
       "    </tr>\n",
       "    <tr>\n",
       "      <th>1140</th>\n",
       "      <td>6.2</td>\n",
       "      <td>0.600</td>\n",
       "      <td>0.08</td>\n",
       "      <td>2.0</td>\n",
       "      <td>0.090</td>\n",
       "      <td>32.0</td>\n",
       "      <td>44.0</td>\n",
       "      <td>0.99490</td>\n",
       "      <td>3.45</td>\n",
       "      <td>0.58</td>\n",
       "      <td>10.5</td>\n",
       "      <td>5</td>\n",
       "      <td>1594</td>\n",
       "    </tr>\n",
       "    <tr>\n",
       "      <th>1141</th>\n",
       "      <td>5.9</td>\n",
       "      <td>0.550</td>\n",
       "      <td>0.10</td>\n",
       "      <td>2.2</td>\n",
       "      <td>0.062</td>\n",
       "      <td>39.0</td>\n",
       "      <td>51.0</td>\n",
       "      <td>0.99512</td>\n",
       "      <td>3.52</td>\n",
       "      <td>0.76</td>\n",
       "      <td>11.2</td>\n",
       "      <td>6</td>\n",
       "      <td>1595</td>\n",
       "    </tr>\n",
       "    <tr>\n",
       "      <th>1142</th>\n",
       "      <td>5.9</td>\n",
       "      <td>0.645</td>\n",
       "      <td>0.12</td>\n",
       "      <td>2.0</td>\n",
       "      <td>0.075</td>\n",
       "      <td>32.0</td>\n",
       "      <td>44.0</td>\n",
       "      <td>0.99547</td>\n",
       "      <td>3.57</td>\n",
       "      <td>0.71</td>\n",
       "      <td>10.2</td>\n",
       "      <td>5</td>\n",
       "      <td>1597</td>\n",
       "    </tr>\n",
       "  </tbody>\n",
       "</table>\n",
       "</div>"
      ],
      "text/plain": [
       "      fixed acidity  volatile acidity  citric acid  residual sugar  chlorides  \\\n",
       "1138            6.3             0.510         0.13             2.3      0.076   \n",
       "1139            6.8             0.620         0.08             1.9      0.068   \n",
       "1140            6.2             0.600         0.08             2.0      0.090   \n",
       "1141            5.9             0.550         0.10             2.2      0.062   \n",
       "1142            5.9             0.645         0.12             2.0      0.075   \n",
       "\n",
       "      free sulfur dioxide  total sulfur dioxide  density    pH  sulphates  \\\n",
       "1138                 29.0                  40.0  0.99574  3.42       0.75   \n",
       "1139                 28.0                  38.0  0.99651  3.42       0.82   \n",
       "1140                 32.0                  44.0  0.99490  3.45       0.58   \n",
       "1141                 39.0                  51.0  0.99512  3.52       0.76   \n",
       "1142                 32.0                  44.0  0.99547  3.57       0.71   \n",
       "\n",
       "      alcohol  quality    Id  \n",
       "1138     11.0        6  1592  \n",
       "1139      9.5        6  1593  \n",
       "1140     10.5        5  1594  \n",
       "1141     11.2        6  1595  \n",
       "1142     10.2        5  1597  "
      ]
     },
     "execution_count": 6,
     "metadata": {},
     "output_type": "execute_result"
    }
   ],
   "source": [
    "df.tail()"
   ]
  },
  {
   "cell_type": "code",
   "execution_count": 7,
   "id": "0fbdbc0e",
   "metadata": {
    "execution": {
     "iopub.execute_input": "2022-03-21T19:13:41.601285Z",
     "iopub.status.busy": "2022-03-21T19:13:41.600566Z",
     "iopub.status.idle": "2022-03-21T19:13:41.641278Z",
     "shell.execute_reply": "2022-03-21T19:13:41.641755Z",
     "shell.execute_reply.started": "2022-03-21T19:08:09.733086Z"
    },
    "papermill": {
     "duration": 0.07124,
     "end_time": "2022-03-21T19:13:41.641896",
     "exception": false,
     "start_time": "2022-03-21T19:13:41.570656",
     "status": "completed"
    },
    "tags": []
   },
   "outputs": [
    {
     "data": {
      "text/html": [
       "<div>\n",
       "<style scoped>\n",
       "    .dataframe tbody tr th:only-of-type {\n",
       "        vertical-align: middle;\n",
       "    }\n",
       "\n",
       "    .dataframe tbody tr th {\n",
       "        vertical-align: top;\n",
       "    }\n",
       "\n",
       "    .dataframe thead th {\n",
       "        text-align: right;\n",
       "    }\n",
       "</style>\n",
       "<table border=\"1\" class=\"dataframe\">\n",
       "  <thead>\n",
       "    <tr style=\"text-align: right;\">\n",
       "      <th></th>\n",
       "      <th>count</th>\n",
       "      <th>mean</th>\n",
       "      <th>std</th>\n",
       "      <th>min</th>\n",
       "      <th>25%</th>\n",
       "      <th>50%</th>\n",
       "      <th>75%</th>\n",
       "      <th>max</th>\n",
       "    </tr>\n",
       "  </thead>\n",
       "  <tbody>\n",
       "    <tr>\n",
       "      <th>fixed acidity</th>\n",
       "      <td>1143.0</td>\n",
       "      <td>8.31</td>\n",
       "      <td>1.75</td>\n",
       "      <td>4.60</td>\n",
       "      <td>7.10</td>\n",
       "      <td>7.90</td>\n",
       "      <td>9.10</td>\n",
       "      <td>15.90</td>\n",
       "    </tr>\n",
       "    <tr>\n",
       "      <th>volatile acidity</th>\n",
       "      <td>1143.0</td>\n",
       "      <td>0.53</td>\n",
       "      <td>0.18</td>\n",
       "      <td>0.12</td>\n",
       "      <td>0.39</td>\n",
       "      <td>0.52</td>\n",
       "      <td>0.64</td>\n",
       "      <td>1.58</td>\n",
       "    </tr>\n",
       "    <tr>\n",
       "      <th>citric acid</th>\n",
       "      <td>1143.0</td>\n",
       "      <td>0.27</td>\n",
       "      <td>0.20</td>\n",
       "      <td>0.00</td>\n",
       "      <td>0.09</td>\n",
       "      <td>0.25</td>\n",
       "      <td>0.42</td>\n",
       "      <td>1.00</td>\n",
       "    </tr>\n",
       "    <tr>\n",
       "      <th>residual sugar</th>\n",
       "      <td>1143.0</td>\n",
       "      <td>2.53</td>\n",
       "      <td>1.36</td>\n",
       "      <td>0.90</td>\n",
       "      <td>1.90</td>\n",
       "      <td>2.20</td>\n",
       "      <td>2.60</td>\n",
       "      <td>15.50</td>\n",
       "    </tr>\n",
       "    <tr>\n",
       "      <th>chlorides</th>\n",
       "      <td>1143.0</td>\n",
       "      <td>0.09</td>\n",
       "      <td>0.05</td>\n",
       "      <td>0.01</td>\n",
       "      <td>0.07</td>\n",
       "      <td>0.08</td>\n",
       "      <td>0.09</td>\n",
       "      <td>0.61</td>\n",
       "    </tr>\n",
       "    <tr>\n",
       "      <th>free sulfur dioxide</th>\n",
       "      <td>1143.0</td>\n",
       "      <td>15.62</td>\n",
       "      <td>10.25</td>\n",
       "      <td>1.00</td>\n",
       "      <td>7.00</td>\n",
       "      <td>13.00</td>\n",
       "      <td>21.00</td>\n",
       "      <td>68.00</td>\n",
       "    </tr>\n",
       "    <tr>\n",
       "      <th>total sulfur dioxide</th>\n",
       "      <td>1143.0</td>\n",
       "      <td>45.91</td>\n",
       "      <td>32.78</td>\n",
       "      <td>6.00</td>\n",
       "      <td>21.00</td>\n",
       "      <td>37.00</td>\n",
       "      <td>61.00</td>\n",
       "      <td>289.00</td>\n",
       "    </tr>\n",
       "    <tr>\n",
       "      <th>density</th>\n",
       "      <td>1143.0</td>\n",
       "      <td>1.00</td>\n",
       "      <td>0.00</td>\n",
       "      <td>0.99</td>\n",
       "      <td>1.00</td>\n",
       "      <td>1.00</td>\n",
       "      <td>1.00</td>\n",
       "      <td>1.00</td>\n",
       "    </tr>\n",
       "    <tr>\n",
       "      <th>pH</th>\n",
       "      <td>1143.0</td>\n",
       "      <td>3.31</td>\n",
       "      <td>0.16</td>\n",
       "      <td>2.74</td>\n",
       "      <td>3.20</td>\n",
       "      <td>3.31</td>\n",
       "      <td>3.40</td>\n",
       "      <td>4.01</td>\n",
       "    </tr>\n",
       "    <tr>\n",
       "      <th>sulphates</th>\n",
       "      <td>1143.0</td>\n",
       "      <td>0.66</td>\n",
       "      <td>0.17</td>\n",
       "      <td>0.33</td>\n",
       "      <td>0.55</td>\n",
       "      <td>0.62</td>\n",
       "      <td>0.73</td>\n",
       "      <td>2.00</td>\n",
       "    </tr>\n",
       "    <tr>\n",
       "      <th>alcohol</th>\n",
       "      <td>1143.0</td>\n",
       "      <td>10.44</td>\n",
       "      <td>1.08</td>\n",
       "      <td>8.40</td>\n",
       "      <td>9.50</td>\n",
       "      <td>10.20</td>\n",
       "      <td>11.10</td>\n",
       "      <td>14.90</td>\n",
       "    </tr>\n",
       "    <tr>\n",
       "      <th>quality</th>\n",
       "      <td>1143.0</td>\n",
       "      <td>5.66</td>\n",
       "      <td>0.81</td>\n",
       "      <td>3.00</td>\n",
       "      <td>5.00</td>\n",
       "      <td>6.00</td>\n",
       "      <td>6.00</td>\n",
       "      <td>8.00</td>\n",
       "    </tr>\n",
       "    <tr>\n",
       "      <th>Id</th>\n",
       "      <td>1143.0</td>\n",
       "      <td>804.97</td>\n",
       "      <td>464.00</td>\n",
       "      <td>0.00</td>\n",
       "      <td>411.00</td>\n",
       "      <td>794.00</td>\n",
       "      <td>1209.50</td>\n",
       "      <td>1597.00</td>\n",
       "    </tr>\n",
       "  </tbody>\n",
       "</table>\n",
       "</div>"
      ],
      "text/plain": [
       "                       count    mean     std   min     25%     50%      75%  \\\n",
       "fixed acidity         1143.0    8.31    1.75  4.60    7.10    7.90     9.10   \n",
       "volatile acidity      1143.0    0.53    0.18  0.12    0.39    0.52     0.64   \n",
       "citric acid           1143.0    0.27    0.20  0.00    0.09    0.25     0.42   \n",
       "residual sugar        1143.0    2.53    1.36  0.90    1.90    2.20     2.60   \n",
       "chlorides             1143.0    0.09    0.05  0.01    0.07    0.08     0.09   \n",
       "free sulfur dioxide   1143.0   15.62   10.25  1.00    7.00   13.00    21.00   \n",
       "total sulfur dioxide  1143.0   45.91   32.78  6.00   21.00   37.00    61.00   \n",
       "density               1143.0    1.00    0.00  0.99    1.00    1.00     1.00   \n",
       "pH                    1143.0    3.31    0.16  2.74    3.20    3.31     3.40   \n",
       "sulphates             1143.0    0.66    0.17  0.33    0.55    0.62     0.73   \n",
       "alcohol               1143.0   10.44    1.08  8.40    9.50   10.20    11.10   \n",
       "quality               1143.0    5.66    0.81  3.00    5.00    6.00     6.00   \n",
       "Id                    1143.0  804.97  464.00  0.00  411.00  794.00  1209.50   \n",
       "\n",
       "                          max  \n",
       "fixed acidity           15.90  \n",
       "volatile acidity         1.58  \n",
       "citric acid              1.00  \n",
       "residual sugar          15.50  \n",
       "chlorides                0.61  \n",
       "free sulfur dioxide     68.00  \n",
       "total sulfur dioxide   289.00  \n",
       "density                  1.00  \n",
       "pH                       4.01  \n",
       "sulphates                2.00  \n",
       "alcohol                 14.90  \n",
       "quality                  8.00  \n",
       "Id                    1597.00  "
      ]
     },
     "execution_count": 7,
     "metadata": {},
     "output_type": "execute_result"
    }
   ],
   "source": [
    "df.describe().T.round(2)"
   ]
  },
  {
   "cell_type": "code",
   "execution_count": 8,
   "id": "b5f8a909",
   "metadata": {
    "execution": {
     "iopub.execute_input": "2022-03-21T19:13:41.682867Z",
     "iopub.status.busy": "2022-03-21T19:13:41.682261Z",
     "iopub.status.idle": "2022-03-21T19:13:41.684886Z",
     "shell.execute_reply": "2022-03-21T19:13:41.685274Z",
     "shell.execute_reply.started": "2022-03-21T19:08:14.167078Z"
    },
    "papermill": {
     "duration": 0.025348,
     "end_time": "2022-03-21T19:13:41.685393",
     "exception": false,
     "start_time": "2022-03-21T19:13:41.660045",
     "status": "completed"
    },
    "tags": []
   },
   "outputs": [
    {
     "data": {
      "text/plain": [
       "Index(['fixed acidity', 'volatile acidity', 'citric acid', 'residual sugar',\n",
       "       'chlorides', 'free sulfur dioxide', 'total sulfur dioxide', 'density',\n",
       "       'pH', 'sulphates', 'alcohol', 'quality', 'Id'],\n",
       "      dtype='object')"
      ]
     },
     "execution_count": 8,
     "metadata": {},
     "output_type": "execute_result"
    }
   ],
   "source": [
    "df.columns"
   ]
  },
  {
   "cell_type": "code",
   "execution_count": 9,
   "id": "7b919451",
   "metadata": {
    "execution": {
     "iopub.execute_input": "2022-03-21T19:13:41.735856Z",
     "iopub.status.busy": "2022-03-21T19:13:41.724362Z",
     "iopub.status.idle": "2022-03-21T19:13:41.739111Z",
     "shell.execute_reply": "2022-03-21T19:13:41.739719Z",
     "shell.execute_reply.started": "2022-03-21T19:08:16.156805Z"
    },
    "papermill": {
     "duration": 0.03606,
     "end_time": "2022-03-21T19:13:41.739879",
     "exception": false,
     "start_time": "2022-03-21T19:13:41.703819",
     "status": "completed"
    },
    "tags": []
   },
   "outputs": [
    {
     "name": "stdout",
     "output_type": "stream",
     "text": [
      "<class 'pandas.core.frame.DataFrame'>\n",
      "RangeIndex: 1143 entries, 0 to 1142\n",
      "Data columns (total 13 columns):\n",
      " #   Column                Non-Null Count  Dtype  \n",
      "---  ------                --------------  -----  \n",
      " 0   fixed acidity         1143 non-null   float64\n",
      " 1   volatile acidity      1143 non-null   float64\n",
      " 2   citric acid           1143 non-null   float64\n",
      " 3   residual sugar        1143 non-null   float64\n",
      " 4   chlorides             1143 non-null   float64\n",
      " 5   free sulfur dioxide   1143 non-null   float64\n",
      " 6   total sulfur dioxide  1143 non-null   float64\n",
      " 7   density               1143 non-null   float64\n",
      " 8   pH                    1143 non-null   float64\n",
      " 9   sulphates             1143 non-null   float64\n",
      " 10  alcohol               1143 non-null   float64\n",
      " 11  quality               1143 non-null   int64  \n",
      " 12  Id                    1143 non-null   int64  \n",
      "dtypes: float64(11), int64(2)\n",
      "memory usage: 116.2 KB\n"
     ]
    }
   ],
   "source": [
    "df.info()"
   ]
  },
  {
   "cell_type": "code",
   "execution_count": 10,
   "id": "8969efc2",
   "metadata": {
    "execution": {
     "iopub.execute_input": "2022-03-21T19:13:41.786084Z",
     "iopub.status.busy": "2022-03-21T19:13:41.785286Z",
     "iopub.status.idle": "2022-03-21T19:13:41.791813Z",
     "shell.execute_reply": "2022-03-21T19:13:41.792178Z",
     "shell.execute_reply.started": "2022-03-21T19:08:19.770716Z"
    },
    "papermill": {
     "duration": 0.030829,
     "end_time": "2022-03-21T19:13:41.792298",
     "exception": false,
     "start_time": "2022-03-21T19:13:41.761469",
     "status": "completed"
    },
    "tags": []
   },
   "outputs": [
    {
     "data": {
      "text/plain": [
       "fixed acidity             91\n",
       "volatile acidity         135\n",
       "citric acid               77\n",
       "residual sugar            80\n",
       "chlorides                131\n",
       "free sulfur dioxide       53\n",
       "total sulfur dioxide     138\n",
       "density                  388\n",
       "pH                        87\n",
       "sulphates                 89\n",
       "alcohol                   61\n",
       "quality                    6\n",
       "Id                      1143\n",
       "dtype: int64"
      ]
     },
     "execution_count": 10,
     "metadata": {},
     "output_type": "execute_result"
    }
   ],
   "source": [
    "df.nunique()"
   ]
  },
  {
   "cell_type": "code",
   "execution_count": 11,
   "id": "6d46ca3a",
   "metadata": {
    "execution": {
     "iopub.execute_input": "2022-03-21T19:13:41.837259Z",
     "iopub.status.busy": "2022-03-21T19:13:41.836736Z",
     "iopub.status.idle": "2022-03-21T19:13:41.840131Z",
     "shell.execute_reply": "2022-03-21T19:13:41.840526Z",
     "shell.execute_reply.started": "2022-03-21T19:10:01.951480Z"
    },
    "papermill": {
     "duration": 0.028962,
     "end_time": "2022-03-21T19:13:41.840650",
     "exception": false,
     "start_time": "2022-03-21T19:13:41.811688",
     "status": "completed"
    },
    "tags": []
   },
   "outputs": [
    {
     "data": {
      "text/plain": [
       "5    483\n",
       "6    462\n",
       "7    143\n",
       "4     33\n",
       "8     16\n",
       "3      6\n",
       "Name: quality, dtype: int64"
      ]
     },
     "execution_count": 11,
     "metadata": {},
     "output_type": "execute_result"
    }
   ],
   "source": [
    "df[\"quality\"].value_counts()"
   ]
  },
  {
   "cell_type": "code",
   "execution_count": 12,
   "id": "5ce9c14d",
   "metadata": {
    "execution": {
     "iopub.execute_input": "2022-03-21T19:13:41.884016Z",
     "iopub.status.busy": "2022-03-21T19:13:41.883522Z",
     "iopub.status.idle": "2022-03-21T19:13:41.891278Z",
     "shell.execute_reply": "2022-03-21T19:13:41.891898Z",
     "shell.execute_reply.started": "2022-03-21T19:10:05.034520Z"
    },
    "papermill": {
     "duration": 0.031915,
     "end_time": "2022-03-21T19:13:41.892068",
     "exception": false,
     "start_time": "2022-03-21T19:13:41.860153",
     "status": "completed"
    },
    "tags": []
   },
   "outputs": [
    {
     "name": "stdout",
     "output_type": "stream",
     "text": [
      "Tabela faltantes_percentual: \n",
      "fixed acidity           0.0\n",
      "volatile acidity        0.0\n",
      "citric acid             0.0\n",
      "residual sugar          0.0\n",
      "chlorides               0.0\n",
      "free sulfur dioxide     0.0\n",
      "total sulfur dioxide    0.0\n",
      "density                 0.0\n",
      "pH                      0.0\n",
      "sulphates               0.0\n",
      "alcohol                 0.0\n",
      "quality                 0.0\n",
      "Id                      0.0\n",
      "dtype: float64\n",
      "\n"
     ]
    }
   ],
   "source": [
    "faltantes_percentual = ((df.isnull().sum()) / len(df[\"quality\"]) * 100).round(2)\n",
    "print(f\"Tabela faltantes_percentual: \\n{faltantes_percentual}\\n\")"
   ]
  },
  {
   "cell_type": "markdown",
   "id": "1a11bfbe",
   "metadata": {
    "papermill": {
     "duration": 0.019729,
     "end_time": "2022-03-21T19:13:41.932255",
     "exception": false,
     "start_time": "2022-03-21T19:13:41.912526",
     "status": "completed"
    },
    "tags": []
   },
   "source": [
    "Sem valores faltando"
   ]
  },
  {
   "cell_type": "markdown",
   "id": "03741c25",
   "metadata": {
    "papermill": {
     "duration": 0.019549,
     "end_time": "2022-03-21T19:13:41.971927",
     "exception": false,
     "start_time": "2022-03-21T19:13:41.952378",
     "status": "completed"
    },
    "tags": []
   },
   "source": [
    "# Data Visualization"
   ]
  },
  {
   "cell_type": "code",
   "execution_count": null,
   "id": "54a1505d",
   "metadata": {
    "papermill": {
     "duration": 0.019693,
     "end_time": "2022-03-21T19:13:42.011460",
     "exception": false,
     "start_time": "2022-03-21T19:13:41.991767",
     "status": "completed"
    },
    "tags": []
   },
   "outputs": [],
   "source": []
  },
  {
   "cell_type": "markdown",
   "id": "a4b7f1d5",
   "metadata": {
    "papermill": {
     "duration": 0.02014,
     "end_time": "2022-03-21T19:13:42.052079",
     "exception": false,
     "start_time": "2022-03-21T19:13:42.031939",
     "status": "completed"
    },
    "tags": []
   },
   "source": [
    "# Model"
   ]
  },
  {
   "cell_type": "code",
   "execution_count": 13,
   "id": "c8a682b9",
   "metadata": {
    "execution": {
     "iopub.execute_input": "2022-03-21T19:13:42.095460Z",
     "iopub.status.busy": "2022-03-21T19:13:42.094667Z",
     "iopub.status.idle": "2022-03-21T19:13:44.886784Z",
     "shell.execute_reply": "2022-03-21T19:13:44.886246Z",
     "shell.execute_reply.started": "2022-03-21T19:10:40.162284Z"
    },
    "papermill": {
     "duration": 2.814884,
     "end_time": "2022-03-21T19:13:44.886909",
     "exception": false,
     "start_time": "2022-03-21T19:13:42.072025",
     "status": "completed"
    },
    "tags": []
   },
   "outputs": [],
   "source": [
    "class WineClassifier(nn.Module):\n",
    "\n",
    "\n",
    "    def __init__(self, input_size, hidden_size, out_size):\n",
    "        super(WineClassifier, self).__init__()\n",
    "\n",
    "        # Arquitetura da rede\n",
    "        self.hidden = nn.Linear(input_size, hidden_size)\n",
    "        self.relu = nn.ReLU()\n",
    "        self.out = nn.Linear(hidden_size, out_size)\n",
    "        self.softmax = nn.Softmax()\n",
    "\n",
    "    def forward(self, X):\n",
    "        \n",
    "        feature = self.relu(self.hidden(X))\n",
    "        output = self.softmax(self.out(feature))\n",
    "\n",
    "        return output\n",
    "\n",
    "input_size = df.shape[1]  #features\n",
    "hidden_size = 32\n",
    "out_size = len(df[\"quality\"].value_counts())\n",
    "\n",
    "net = WineClassifier(input_size, hidden_size, out_size).to(device)"
   ]
  },
  {
   "cell_type": "code",
   "execution_count": null,
   "id": "0dda686b",
   "metadata": {
    "papermill": {
     "duration": 0.019701,
     "end_time": "2022-03-21T19:13:44.926871",
     "exception": false,
     "start_time": "2022-03-21T19:13:44.907170",
     "status": "completed"
    },
    "tags": []
   },
   "outputs": [],
   "source": []
  }
 ],
 "metadata": {
  "kernelspec": {
   "display_name": "Python 3",
   "language": "python",
   "name": "python3"
  },
  "language_info": {
   "codemirror_mode": {
    "name": "ipython",
    "version": 3
   },
   "file_extension": ".py",
   "mimetype": "text/x-python",
   "name": "python",
   "nbconvert_exporter": "python",
   "pygments_lexer": "ipython3",
   "version": "3.7.12"
  },
  "papermill": {
   "default_parameters": {},
   "duration": 14.921617,
   "end_time": "2022-03-21T19:13:45.956552",
   "environment_variables": {},
   "exception": null,
   "input_path": "__notebook__.ipynb",
   "output_path": "__notebook__.ipynb",
   "parameters": {},
   "start_time": "2022-03-21T19:13:31.034935",
   "version": "2.3.3"
  }
 },
 "nbformat": 4,
 "nbformat_minor": 5
}
